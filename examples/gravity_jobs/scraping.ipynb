{
 "cells": [
  {
   "cell_type": "markdown",
   "id": "3dfcd05f",
   "metadata": {},
   "source": [
    "# Dependencies"
   ]
  },
  {
   "cell_type": "code",
   "execution_count": 67,
   "id": "53ad267c",
   "metadata": {},
   "outputs": [
    {
     "name": "stderr",
     "output_type": "stream",
     "text": [
      "I0000 00:00:1758873824.225941 1023362 fork_posix.cc:71] Other threads are currently calling into gRPC, skipping fork() handlers\n"
     ]
    },
    {
     "name": "stdout",
     "output_type": "stream",
     "text": [
      "Requirement already satisfied: macrocosmos in /Users/ntakouris/code/macrocosmos/sn13-data-universe-api-examples/.venv/lib/python3.13/site-packages (1.1.4)\n",
      "Requirement already satisfied: dotenv in /Users/ntakouris/code/macrocosmos/sn13-data-universe-api-examples/.venv/lib/python3.13/site-packages (0.9.9)\n",
      "Requirement already satisfied: pandas in /Users/ntakouris/code/macrocosmos/sn13-data-universe-api-examples/.venv/lib/python3.13/site-packages (2.3.2)\n",
      "Collecting fastparquet\n",
      "  Using cached fastparquet-2024.11.0-cp313-cp313-macosx_11_0_arm64.whl.metadata (4.2 kB)\n",
      "Requirement already satisfied: grpcio-tools>=1.70.0 in /Users/ntakouris/code/macrocosmos/sn13-data-universe-api-examples/.venv/lib/python3.13/site-packages (from macrocosmos) (1.71.2)\n",
      "Requirement already satisfied: grpcio>=1.70.0 in /Users/ntakouris/code/macrocosmos/sn13-data-universe-api-examples/.venv/lib/python3.13/site-packages (from macrocosmos) (1.75.0)\n",
      "Requirement already satisfied: protobuf<6.0.0,>=5.29.5 in /Users/ntakouris/code/macrocosmos/sn13-data-universe-api-examples/.venv/lib/python3.13/site-packages (from macrocosmos) (5.29.5)\n",
      "Requirement already satisfied: pydantic>=2.10.6 in /Users/ntakouris/code/macrocosmos/sn13-data-universe-api-examples/.venv/lib/python3.13/site-packages (from macrocosmos) (2.11.9)\n",
      "Requirement already satisfied: python-dotenv in /Users/ntakouris/code/macrocosmos/sn13-data-universe-api-examples/.venv/lib/python3.13/site-packages (from dotenv) (1.1.1)\n",
      "Requirement already satisfied: numpy>=1.26.0 in /Users/ntakouris/code/macrocosmos/sn13-data-universe-api-examples/.venv/lib/python3.13/site-packages (from pandas) (2.3.3)\n",
      "Requirement already satisfied: python-dateutil>=2.8.2 in /Users/ntakouris/code/macrocosmos/sn13-data-universe-api-examples/.venv/lib/python3.13/site-packages (from pandas) (2.9.0.post0)\n",
      "Requirement already satisfied: pytz>=2020.1 in /Users/ntakouris/code/macrocosmos/sn13-data-universe-api-examples/.venv/lib/python3.13/site-packages (from pandas) (2025.2)\n",
      "Requirement already satisfied: tzdata>=2022.7 in /Users/ntakouris/code/macrocosmos/sn13-data-universe-api-examples/.venv/lib/python3.13/site-packages (from pandas) (2025.2)\n",
      "Collecting cramjam>=2.3 (from fastparquet)\n",
      "  Using cached cramjam-2.11.0-cp313-cp313-macosx_11_0_arm64.whl.metadata (5.6 kB)\n",
      "Collecting fsspec (from fastparquet)\n",
      "  Using cached fsspec-2025.9.0-py3-none-any.whl.metadata (10 kB)\n",
      "Requirement already satisfied: packaging in /Users/ntakouris/code/macrocosmos/sn13-data-universe-api-examples/.venv/lib/python3.13/site-packages (from fastparquet) (25.0)\n",
      "Requirement already satisfied: typing-extensions~=4.12 in /Users/ntakouris/code/macrocosmos/sn13-data-universe-api-examples/.venv/lib/python3.13/site-packages (from grpcio>=1.70.0->macrocosmos) (4.15.0)\n",
      "Requirement already satisfied: setuptools in /Users/ntakouris/code/macrocosmos/sn13-data-universe-api-examples/.venv/lib/python3.13/site-packages (from grpcio-tools>=1.70.0->macrocosmos) (80.9.0)\n",
      "Requirement already satisfied: annotated-types>=0.6.0 in /Users/ntakouris/code/macrocosmos/sn13-data-universe-api-examples/.venv/lib/python3.13/site-packages (from pydantic>=2.10.6->macrocosmos) (0.7.0)\n",
      "Requirement already satisfied: pydantic-core==2.33.2 in /Users/ntakouris/code/macrocosmos/sn13-data-universe-api-examples/.venv/lib/python3.13/site-packages (from pydantic>=2.10.6->macrocosmos) (2.33.2)\n",
      "Requirement already satisfied: typing-inspection>=0.4.0 in /Users/ntakouris/code/macrocosmos/sn13-data-universe-api-examples/.venv/lib/python3.13/site-packages (from pydantic>=2.10.6->macrocosmos) (0.4.1)\n",
      "Requirement already satisfied: six>=1.5 in /Users/ntakouris/code/macrocosmos/sn13-data-universe-api-examples/.venv/lib/python3.13/site-packages (from python-dateutil>=2.8.2->pandas) (1.17.0)\n",
      "Using cached fastparquet-2024.11.0-cp313-cp313-macosx_11_0_arm64.whl (683 kB)\n",
      "Using cached cramjam-2.11.0-cp313-cp313-macosx_11_0_arm64.whl (1.7 MB)\n",
      "Using cached fsspec-2025.9.0-py3-none-any.whl (199 kB)\n",
      "Installing collected packages: fsspec, cramjam, fastparquet\n",
      "\u001b[2K   \u001b[90m━━━━━━━━━━━━━━━━━━━━━━━━━━━━━━━━━━━━━━━━\u001b[0m \u001b[32m3/3\u001b[0m [fastparquet]\n",
      "\u001b[1A\u001b[2KSuccessfully installed cramjam-2.11.0 fastparquet-2024.11.0 fsspec-2025.9.0\n"
     ]
    }
   ],
   "source": [
    "!pip install macrocosmos dotenv pandas fastparquet"
   ]
  },
  {
   "cell_type": "markdown",
   "id": "2537ceae",
   "metadata": {},
   "source": [
    "## Setup"
   ]
  },
  {
   "cell_type": "code",
   "execution_count": 22,
   "id": "1873088c",
   "metadata": {},
   "outputs": [],
   "source": [
    "import pandas as pd\n",
    "import json\n",
    "\n",
    "from datetime import datetime, timezone, timedelta\n",
    "from dotenv import load_dotenv\n",
    "import os\n",
    "import macrocosmos\n",
    "\n",
    "load_dotenv()\n",
    "\n",
    "client = macrocosmos.GravityClient(api_key=os.environ.get(\"MACROCOSMOS_API_KEY\"))"
   ]
  },
  {
   "cell_type": "code",
   "execution_count": 14,
   "id": "af46e617",
   "metadata": {},
   "outputs": [
    {
     "data": {
      "text/plain": [
       "('2025-09-18T08:15:11.206842+00:00', '2025-09-25T08:15:11.206842+00:00')"
      ]
     },
     "execution_count": 14,
     "metadata": {},
     "output_type": "execute_result"
    }
   ],
   "source": [
    "end_dt = datetime.now(timezone.utc)\n",
    "start_dt = end_dt - timedelta(days=7)\n",
    "\n",
    "start_dt.isoformat(), end_dt.isoformat() "
   ]
  },
  {
   "cell_type": "markdown",
   "id": "0fed1127",
   "metadata": {},
   "source": [
    "### Create a job\n",
    "\n",
    "- Gravity Tasks follows a similar pattern to OnDemand, so you can add channel names, subreddits, etc\n",
    "- It's suggested to start with the OnDemand API to figure out what you wish to scrape first\n",
    "\n",
    "\n",
    "```py\n",
    "class GravityTask(BaseModel):\n",
    "    \"\"\"\n",
    "     GravityTask defines a crawler's criteria for a single job (platform/topic)\n",
    "    \"\"\"\n",
    "\n",
    "# topic: the topic of the job (e.g. '#ai' for X, 'r/ai' for Reddit)\n",
    "    topic: typing.Optional[str] = Field(default=\"\")\n",
    "# platform: the platform of the job ('x' or 'reddit')\n",
    "    platform: str = Field(default=\"\")\n",
    "# keyword: the keyword to search for in the job (optional)\n",
    "    keyword: typing.Optional[str] = Field(default=\"\")\n",
    "# post_start_datetime: the start date of the job (optional)\n",
    "    post_start_datetime: typing.Optional[datetime] = Field(default_factory=datetime.now)\n",
    "# post_end_datetime: the end date of the job (optional)\n",
    "    post_end_datetime: typing.Optional[datetime] = Field(default_factory=datetime.now)\n",
    "```"
   ]
  },
  {
   "cell_type": "code",
   "execution_count": 36,
   "id": "0ff8297b",
   "metadata": {},
   "outputs": [],
   "source": [
    "task_name = f\"Macrocosmos Sample - {datetime.now(timezone.utc).strftime('%Y-%m-%d %H:%M:%SZ')}\"\n",
    "\n",
    "gravity_tasks = [\n",
    "                 {\"topic\": \"#ai\", \"platform\": \"x\", \"post_start_datetime\": start_dt, \"post_end_datetime\": end_dt}, \n",
    "                 {\"topic\": \"#ai\", \"platform\": \"reddit\", \"post_start_datetime\": start_dt, \"post_end_datetime\": end_dt},\n",
    "                 {\"topic\": \"MrBeast\", \"platform\": \"youtube\", \"post_start_datetime\": start_dt, \"post_end_datetime\": end_dt}\n",
    "                 ]\n",
    "\n",
    "notification_requests=[{\n",
    "        'type': 'email',\n",
    "        'address': 'theo.ntakouris@gmail.com'\n",
    "    }]"
   ]
  },
  {
   "cell_type": "code",
   "execution_count": null,
   "id": "00faeeb5",
   "metadata": {},
   "outputs": [
    {
     "data": {
      "text/plain": [
       "gravity_task_id: \"multicrawler-532b5b59-ac58-4d9e-9806-3f0aa93beffe\""
      ]
     },
     "execution_count": 31,
     "metadata": {},
     "output_type": "execute_result"
    }
   ],
   "source": [
    "# Optional: name the overall Gravity task with a timestamp so it's easy to find later\n",
    "\n",
    "response = client.gravity.CreateGravityTask(\n",
    "    gravity_tasks=gravity_tasks,\n",
    "    name=task_name,\n",
    "    notification_requests=notification_requests\n",
    ")\n",
    "\n",
    "response"
   ]
  },
  {
   "cell_type": "code",
   "execution_count": 32,
   "id": "067d0735",
   "metadata": {},
   "outputs": [
    {
     "data": {
      "text/plain": [
       "'multicrawler-532b5b59-ac58-4d9e-9806-3f0aa93beffe'"
      ]
     },
     "execution_count": 32,
     "metadata": {},
     "output_type": "execute_result"
    }
   ],
   "source": [
    "task_id = response.gravity_task_id\n",
    "task_id"
   ]
  },
  {
   "cell_type": "code",
   "execution_count": 33,
   "id": "289b35bc",
   "metadata": {},
   "outputs": [],
   "source": [
    "with open('job.json', 'w') as f:\n",
    "    f.write(json.dumps({\n",
    "        'gravity_task_id': task_id\n",
    "    }))"
   ]
  },
  {
   "cell_type": "markdown",
   "id": "27d1a410",
   "metadata": {},
   "source": [
    "### Monitor it's status (will take a few hours to complete)"
   ]
  },
  {
   "cell_type": "code",
   "execution_count": 34,
   "id": "ef20f23b",
   "metadata": {},
   "outputs": [
    {
     "data": {
      "text/plain": [
       "'multicrawler-532b5b59-ac58-4d9e-9806-3f0aa93beffe'"
      ]
     },
     "execution_count": 34,
     "metadata": {},
     "output_type": "execute_result"
    }
   ],
   "source": [
    "with open('job.json', 'r') as f:\n",
    "    j = json.loads(f.read())\n",
    "    task_id = j['gravity_task_id']\n",
    "\n",
    "task_id"
   ]
  },
  {
   "cell_type": "code",
   "execution_count": 51,
   "id": "5fc6ea92",
   "metadata": {},
   "outputs": [
    {
     "data": {
      "text/plain": [
       "gravity_task_states {\n",
       "  gravity_task_id: \"multicrawler-532b5b59-ac58-4d9e-9806-3f0aa93beffe\"\n",
       "  name: \"Macrocosmos Sample - 2025-09-25 09:00:20Z\"\n",
       "  status: \"Running\"\n",
       "  start_time {\n",
       "    seconds: 1758790820\n",
       "    nanos: 771210000\n",
       "  }\n",
       "  crawler_ids: \"crawler-0-multicrawler-532b5b59-ac58-4d9e-9806-3f0aa93beffe\"\n",
       "  crawler_ids: \"crawler-1-multicrawler-532b5b59-ac58-4d9e-9806-3f0aa93beffe\"\n",
       "  crawler_ids: \"crawler-2-multicrawler-532b5b59-ac58-4d9e-9806-3f0aa93beffe\"\n",
       "  crawler_workflows {\n",
       "    crawler_id: \"crawler-0-multicrawler-532b5b59-ac58-4d9e-9806-3f0aa93beffe\"\n",
       "    criteria {\n",
       "      platform: \"x\"\n",
       "      topic: \"#ai\"\n",
       "      notification {\n",
       "        to: \"theo.ntakouris@macrocosmos.ai\"\n",
       "        link: \"https://app.macrocosmos.ai/gravity/datasets/multicrawler-532b5b59-ac58-4d9e-9806-3f0aa93beffe\"\n",
       "      }\n",
       "      user_id: \"c6d07878-ea54-4592-9677-7988de1bddc3\"\n",
       "      keyword: \"\"\n",
       "      post_start_datetime {\n",
       "        seconds: 1758183311\n",
       "      }\n",
       "      post_end_datetime {\n",
       "        seconds: 1758788111\n",
       "      }\n",
       "    }\n",
       "    start_time {\n",
       "      seconds: 1758790821\n",
       "      nanos: 75891000\n",
       "    }\n",
       "    deregistration_time {\n",
       "      seconds: 1759395621\n",
       "      nanos: 75891000\n",
       "    }\n",
       "    archive_time {\n",
       "      seconds: 1761382821\n",
       "      nanos: 75891000\n",
       "    }\n",
       "    state {\n",
       "      status: \"Running\"\n",
       "      bytes_collected: 316910\n",
       "      records_collected: 766\n",
       "    }\n",
       "  }\n",
       "  crawler_workflows {\n",
       "    crawler_id: \"crawler-1-multicrawler-532b5b59-ac58-4d9e-9806-3f0aa93beffe\"\n",
       "    criteria {\n",
       "      platform: \"reddit\"\n",
       "      topic: \"#ai\"\n",
       "      notification {\n",
       "        to: \"theo.ntakouris@macrocosmos.ai\"\n",
       "        link: \"https://app.macrocosmos.ai/gravity/datasets/multicrawler-532b5b59-ac58-4d9e-9806-3f0aa93beffe\"\n",
       "      }\n",
       "      user_id: \"c6d07878-ea54-4592-9677-7988de1bddc3\"\n",
       "      keyword: \"\"\n",
       "      post_start_datetime {\n",
       "        seconds: 1758183311\n",
       "      }\n",
       "      post_end_datetime {\n",
       "        seconds: 1758788111\n",
       "      }\n",
       "    }\n",
       "    start_time {\n",
       "      seconds: 1758790821\n",
       "      nanos: 96578000\n",
       "    }\n",
       "    deregistration_time {\n",
       "      seconds: 1759395621\n",
       "      nanos: 96578000\n",
       "    }\n",
       "    archive_time {\n",
       "      seconds: 1761382821\n",
       "      nanos: 96578000\n",
       "    }\n",
       "    state {\n",
       "      status: \"Running\"\n",
       "      bytes_collected: 182\n",
       "    }\n",
       "  }\n",
       "  crawler_workflows {\n",
       "    crawler_id: \"crawler-2-multicrawler-532b5b59-ac58-4d9e-9806-3f0aa93beffe\"\n",
       "    criteria {\n",
       "      platform: \"youtube\"\n",
       "      topic: \"mrbeast\"\n",
       "      notification {\n",
       "        to: \"theo.ntakouris@macrocosmos.ai\"\n",
       "        link: \"https://app.macrocosmos.ai/gravity/datasets/multicrawler-532b5b59-ac58-4d9e-9806-3f0aa93beffe\"\n",
       "      }\n",
       "      user_id: \"c6d07878-ea54-4592-9677-7988de1bddc3\"\n",
       "      keyword: \"\"\n",
       "      post_start_datetime {\n",
       "        seconds: 1758183311\n",
       "      }\n",
       "      post_end_datetime {\n",
       "        seconds: 1758788111\n",
       "      }\n",
       "    }\n",
       "    start_time {\n",
       "      seconds: 1758790821\n",
       "      nanos: 60603000\n",
       "    }\n",
       "    deregistration_time {\n",
       "      seconds: 1759395621\n",
       "      nanos: 60603000\n",
       "    }\n",
       "    archive_time {\n",
       "      seconds: 1761382821\n",
       "      nanos: 60603000\n",
       "    }\n",
       "    state {\n",
       "      status: \"Running\"\n",
       "      bytes_collected: 158323\n",
       "      records_collected: 2\n",
       "    }\n",
       "  }\n",
       "}"
      ]
     },
     "execution_count": 51,
     "metadata": {},
     "output_type": "execute_result"
    }
   ],
   "source": [
    "resp = client.gravity.GetGravityTasks(\n",
    "    gravity_task_id=task_id,\n",
    "    include_crawlers=True  # bring crawler details/counts if available\n",
    ")\n",
    "\n",
    "resp"
   ]
  },
  {
   "cell_type": "code",
   "execution_count": 52,
   "id": "8e4198da",
   "metadata": {},
   "outputs": [
    {
     "name": "stdout",
     "output_type": "stream",
     "text": [
      "Status: Running\n",
      "Workflow: crawler-0-multicrawler-532b5b59-ac58-4d9e-9806-3f0aa93beffe (x)\n",
      "Collected Rows: 766\n",
      "Workflow: crawler-1-multicrawler-532b5b59-ac58-4d9e-9806-3f0aa93beffe (reddit)\n",
      "Collected Rows: 0\n",
      "Workflow: crawler-2-multicrawler-532b5b59-ac58-4d9e-9806-3f0aa93beffe (youtube)\n",
      "Collected Rows: 2\n"
     ]
    }
   ],
   "source": [
    "task_state = resp.gravity_task_states[0]\n",
    "print(f'Status: {task_state.status}')\n",
    "\n",
    "for wf in task_state.crawler_workflows:\n",
    "    print(f'Workflow: {wf.crawler_id} ({wf.criteria.platform})')\n",
    "    print(f'Collected Rows: {wf.state.records_collected}')"
   ]
  },
  {
   "cell_type": "code",
   "execution_count": 56,
   "id": "23316e1a",
   "metadata": {},
   "outputs": [
    {
     "data": {
      "text/plain": [
       "{'x': 'crawler-0-multicrawler-532b5b59-ac58-4d9e-9806-3f0aa93beffe',\n",
       " 'reddit': 'crawler-1-multicrawler-532b5b59-ac58-4d9e-9806-3f0aa93beffe',\n",
       " 'youtube': 'crawler-2-multicrawler-532b5b59-ac58-4d9e-9806-3f0aa93beffe'}"
      ]
     },
     "execution_count": 56,
     "metadata": {},
     "output_type": "execute_result"
    }
   ],
   "source": [
    "workflow_ids_per_platform = {wf.criteria.platform: wf.crawler_id for wf in task_state.crawler_workflows}\n",
    "workflow_ids_per_platform"
   ]
  },
  {
   "cell_type": "markdown",
   "id": "7754dcfd",
   "metadata": {},
   "source": [
    "### Build your dataset(s)\n",
    "\n",
    "Once you're happy with the amount of data or jobs can't pick up more data, you can build your datasets"
   ]
  },
  {
   "cell_type": "code",
   "execution_count": null,
   "id": "b8eeb1a5",
   "metadata": {},
   "outputs": [
    {
     "data": {
      "text/plain": [
       "dataset_id: \"dataset-47b3581f-1e44-4dda-9d77-c0780612eac8\"\n",
       "dataset {\n",
       "  crawler_workflow_id: \"crawler-0-multicrawler-532b5b59-ac58-4d9e-9806-3f0aa93beffe\"\n",
       "  create_date {\n",
       "    seconds: 1758873456\n",
       "    nanos: 766847000\n",
       "  }\n",
       "  status: \"Running\"\n",
       "  status_message: \"Initializing\"\n",
       "  steps {\n",
       "    step_name: \"Initializing\"\n",
       "  }\n",
       "  total_steps: 10\n",
       "}"
      ]
     },
     "execution_count": 54,
     "metadata": {},
     "output_type": "execute_result"
    }
   ],
   "source": [
    "# you can get the dataset for all the platforms here\n",
    "resp = client.gravity.BuildDataset(\n",
    "    crawler_id=workflow_ids_per_platform['x'],\n",
    "    max_rows=1000,\n",
    "    notification_requests=notification_requests\n",
    ")\n",
    "resp"
   ]
  },
  {
   "cell_type": "code",
   "execution_count": 58,
   "id": "93e0e98f",
   "metadata": {},
   "outputs": [
    {
     "data": {
      "text/plain": [
       "'dataset-47b3581f-1e44-4dda-9d77-c0780612eac8'"
      ]
     },
     "execution_count": 58,
     "metadata": {},
     "output_type": "execute_result"
    }
   ],
   "source": [
    "dataset_id = resp.dataset_id\n",
    "dataset_id"
   ]
  },
  {
   "cell_type": "code",
   "execution_count": 59,
   "id": "5c9dade7",
   "metadata": {},
   "outputs": [],
   "source": [
    "with open('job.json', 'w') as f:\n",
    "    f.write(json.dumps({\n",
    "        'gravity_task_id': task_id,\n",
    "        'workflow_ids_per_platform': workflow_ids_per_platform,\n",
    "        'dataset_id': dataset_id\n",
    "    }))"
   ]
  },
  {
   "cell_type": "markdown",
   "id": "abd3e578",
   "metadata": {},
   "source": [
    "### Download your Data!\n",
    "Or use existing parquet files you download from the ui"
   ]
  },
  {
   "cell_type": "code",
   "execution_count": 60,
   "id": "ec822f7a",
   "metadata": {},
   "outputs": [
    {
     "data": {
      "text/plain": [
       "dataset {\n",
       "  crawler_workflow_id: \"crawler-0-multicrawler-532b5b59-ac58-4d9e-9806-3f0aa93beffe\"\n",
       "  create_date {\n",
       "    seconds: 1758873456\n",
       "    nanos: 766847000\n",
       "  }\n",
       "  expire_date {\n",
       "  }\n",
       "  files {\n",
       "    file_name: \"data_2025-09-26_x_377dq5zw.parquet\"\n",
       "    file_size_bytes: 105096\n",
       "    last_modified {\n",
       "      seconds: 1758873477\n",
       "    }\n",
       "    num_rows: 306\n",
       "    s3_key: \"production_datasets/rift/datetime=2025-09-26/platform=x/label=ai/keyword=no_keyword_requested/chunk=jiql6q1n/data_2025-09-26_x_377dq5zw.parquet\"\n",
       "    url: \"https://data-universe-storage.nyc3.digitaloceanspaces.com/production_datasets/rift/datetime=2025-09-26/platform=x/label=ai/keyword=no_keyword_requested/chunk=jiql6q1n/data_2025-09-26_x_377dq5zw.parquet\"\n",
       "  }\n",
       "  status: \"Completed\"\n",
       "  status_message: \"Dataset ready for download\"\n",
       "  steps {\n",
       "    progress: 1\n",
       "    step: 8\n",
       "    step_name: \"Billing correction\"\n",
       "  }\n",
       "  total_steps: 10\n",
       "  nebula {\n",
       "    file_size_bytes: 537083\n",
       "    url: \"https://data-universe-storage.nyc3.digitaloceanspaces.com/nebulas/production_datasets/datetime=2025-09-26/platform=x/label=ai/keyword=no_keyword_requested/chunk=50i0225n/nebula.parquet\"\n",
       "  }\n",
       "}"
      ]
     },
     "execution_count": 60,
     "metadata": {},
     "output_type": "execute_result"
    }
   ],
   "source": [
    "dataset_resp = client.gravity.GetDataset(dataset_id=dataset_id)\n",
    "dataset_resp"
   ]
  },
  {
   "cell_type": "code",
   "execution_count": 63,
   "id": "ad06fe2e",
   "metadata": {},
   "outputs": [
    {
     "data": {
      "text/plain": [
       "('Completed', 1, 306)"
      ]
     },
     "execution_count": 63,
     "metadata": {},
     "output_type": "execute_result"
    }
   ],
   "source": [
    "dataset_resp.dataset.status, len(dataset_resp.dataset.files), dataset_resp.dataset.files[0].num_rows"
   ]
  },
  {
   "cell_type": "code",
   "execution_count": 69,
   "id": "015d6f2d",
   "metadata": {},
   "outputs": [
    {
     "data": {
      "text/html": [
       "<div>\n",
       "<style scoped>\n",
       "    .dataframe tbody tr th:only-of-type {\n",
       "        vertical-align: middle;\n",
       "    }\n",
       "\n",
       "    .dataframe tbody tr th {\n",
       "        vertical-align: top;\n",
       "    }\n",
       "\n",
       "    .dataframe thead th {\n",
       "        text-align: right;\n",
       "    }\n",
       "</style>\n",
       "<table border=\"1\" class=\"dataframe\">\n",
       "  <thead>\n",
       "    <tr style=\"text-align: right;\">\n",
       "      <th></th>\n",
       "      <th>url</th>\n",
       "      <th>label</th>\n",
       "      <th>text</th>\n",
       "      <th>timestamp</th>\n",
       "      <th>uri</th>\n",
       "      <th>username</th>\n",
       "      <th>user_id</th>\n",
       "      <th>user_display_name</th>\n",
       "      <th>tweet_id</th>\n",
       "      <th>conversation_id</th>\n",
       "      <th>is_reply</th>\n",
       "      <th>is_quote</th>\n",
       "      <th>user_verified</th>\n",
       "      <th>datetime</th>\n",
       "    </tr>\n",
       "  </thead>\n",
       "  <tbody>\n",
       "    <tr>\n",
       "      <th>0</th>\n",
       "      <td>https://x.com/BharatSing_h/status/197112444823...</td>\n",
       "      <td>#ai</td>\n",
       "      <td>Impressive progress. Dominating a tough coding...</td>\n",
       "      <td>2025-09-25T08:07:44+00:00</td>\n",
       "      <td>https://x.com/BharatSing_h/status/197112444823...</td>\n",
       "      <td>BharatSing_h</td>\n",
       "      <td></td>\n",
       "      <td></td>\n",
       "      <td></td>\n",
       "      <td>1971120810485223930</td>\n",
       "      <td>true</td>\n",
       "      <td>false</td>\n",
       "      <td>false</td>\n",
       "      <td>2025-09-25T08:07:44+00:00</td>\n",
       "    </tr>\n",
       "    <tr>\n",
       "      <th>1</th>\n",
       "      <td>https://x.com/EoEo1224_/status/197111769173086...</td>\n",
       "      <td>#ai</td>\n",
       "      <td>Yupp’s design philosophy really shines here — ...</td>\n",
       "      <td>2025-09-25T07:40:53+00:00</td>\n",
       "      <td>https://x.com/EoEo1224_/status/197111769173086...</td>\n",
       "      <td>EoEo1224_</td>\n",
       "      <td></td>\n",
       "      <td></td>\n",
       "      <td></td>\n",
       "      <td>1971117691730866203</td>\n",
       "      <td>false</td>\n",
       "      <td>true</td>\n",
       "      <td>false</td>\n",
       "      <td>2025-09-25T07:40:53+00:00</td>\n",
       "    </tr>\n",
       "    <tr>\n",
       "      <th>2</th>\n",
       "      <td>https://x.com/FpeSre/status/1971123589400219975</td>\n",
       "      <td>#ai</td>\n",
       "      <td>Turns out “vibe coding” is like cooking by sme...</td>\n",
       "      <td>2025-09-25T08:04:20+00:00</td>\n",
       "      <td>https://x.com/FpeSre/status/1971123589400219975</td>\n",
       "      <td>FpeSre</td>\n",
       "      <td></td>\n",
       "      <td></td>\n",
       "      <td></td>\n",
       "      <td>1971123589400219975</td>\n",
       "      <td>false</td>\n",
       "      <td>false</td>\n",
       "      <td>false</td>\n",
       "      <td>2025-09-25T08:04:20+00:00</td>\n",
       "    </tr>\n",
       "    <tr>\n",
       "      <th>3</th>\n",
       "      <td>https://x.com/KaijoRiskManage/status/197111290...</td>\n",
       "      <td>#ai</td>\n",
       "      <td>⚠️ People need to start acting now — AI won’t ...</td>\n",
       "      <td>2025-09-25T07:21:53+00:00</td>\n",
       "      <td>https://x.com/KaijoRiskManage/status/197111290...</td>\n",
       "      <td>KaijoRiskManage</td>\n",
       "      <td></td>\n",
       "      <td></td>\n",
       "      <td></td>\n",
       "      <td>1971112908487786809</td>\n",
       "      <td>false</td>\n",
       "      <td>false</td>\n",
       "      <td>true</td>\n",
       "      <td>2025-09-25T07:21:53+00:00</td>\n",
       "    </tr>\n",
       "    <tr>\n",
       "      <th>4</th>\n",
       "      <td>https://x.com/NeuralLatent/status/197111815220...</td>\n",
       "      <td>#ai</td>\n",
       "      <td>Working on Retrieval System beyond RAG #AI #RA...</td>\n",
       "      <td>2025-09-25T07:42:43+00:00</td>\n",
       "      <td>https://x.com/NeuralLatent/status/197111815220...</td>\n",
       "      <td>NeuralLatent</td>\n",
       "      <td></td>\n",
       "      <td></td>\n",
       "      <td></td>\n",
       "      <td>1971118152206729564</td>\n",
       "      <td>false</td>\n",
       "      <td>false</td>\n",
       "      <td>false</td>\n",
       "      <td>2025-09-25T07:42:43+00:00</td>\n",
       "    </tr>\n",
       "  </tbody>\n",
       "</table>\n",
       "</div>"
      ],
      "text/plain": [
       "                                                 url label  \\\n",
       "0  https://x.com/BharatSing_h/status/197112444823...   #ai   \n",
       "1  https://x.com/EoEo1224_/status/197111769173086...   #ai   \n",
       "2    https://x.com/FpeSre/status/1971123589400219975   #ai   \n",
       "3  https://x.com/KaijoRiskManage/status/197111290...   #ai   \n",
       "4  https://x.com/NeuralLatent/status/197111815220...   #ai   \n",
       "\n",
       "                                                text  \\\n",
       "0  Impressive progress. Dominating a tough coding...   \n",
       "1  Yupp’s design philosophy really shines here — ...   \n",
       "2  Turns out “vibe coding” is like cooking by sme...   \n",
       "3  ⚠️ People need to start acting now — AI won’t ...   \n",
       "4  Working on Retrieval System beyond RAG #AI #RA...   \n",
       "\n",
       "                   timestamp  \\\n",
       "0  2025-09-25T08:07:44+00:00   \n",
       "1  2025-09-25T07:40:53+00:00   \n",
       "2  2025-09-25T08:04:20+00:00   \n",
       "3  2025-09-25T07:21:53+00:00   \n",
       "4  2025-09-25T07:42:43+00:00   \n",
       "\n",
       "                                                 uri         username user_id  \\\n",
       "0  https://x.com/BharatSing_h/status/197112444823...     BharatSing_h           \n",
       "1  https://x.com/EoEo1224_/status/197111769173086...        EoEo1224_           \n",
       "2    https://x.com/FpeSre/status/1971123589400219975           FpeSre           \n",
       "3  https://x.com/KaijoRiskManage/status/197111290...  KaijoRiskManage           \n",
       "4  https://x.com/NeuralLatent/status/197111815220...     NeuralLatent           \n",
       "\n",
       "  user_display_name tweet_id      conversation_id is_reply is_quote  \\\n",
       "0                             1971120810485223930     true    false   \n",
       "1                             1971117691730866203    false     true   \n",
       "2                             1971123589400219975    false    false   \n",
       "3                             1971112908487786809    false    false   \n",
       "4                             1971118152206729564    false    false   \n",
       "\n",
       "  user_verified                   datetime  \n",
       "0         false  2025-09-25T08:07:44+00:00  \n",
       "1         false  2025-09-25T07:40:53+00:00  \n",
       "2         false  2025-09-25T08:04:20+00:00  \n",
       "3          true  2025-09-25T07:21:53+00:00  \n",
       "4         false  2025-09-25T07:42:43+00:00  "
      ]
     },
     "execution_count": 69,
     "metadata": {},
     "output_type": "execute_result"
    }
   ],
   "source": [
    "df = pd.read_parquet(dataset_resp.dataset.files[0].url, engine='fastparquet')\n",
    "df.head()"
   ]
  },
  {
   "cell_type": "code",
   "execution_count": 70,
   "id": "a41466ff",
   "metadata": {},
   "outputs": [
    {
     "data": {
      "text/plain": [
       "url                  object\n",
       "label                object\n",
       "text                 object\n",
       "timestamp            object\n",
       "uri                  object\n",
       "username             object\n",
       "user_id              object\n",
       "user_display_name    object\n",
       "tweet_id             object\n",
       "conversation_id      object\n",
       "is_reply             object\n",
       "is_quote             object\n",
       "user_verified        object\n",
       "datetime             object\n",
       "dtype: object"
      ]
     },
     "execution_count": 70,
     "metadata": {},
     "output_type": "execute_result"
    }
   ],
   "source": [
    "df.dtypes"
   ]
  }
 ],
 "metadata": {
  "kernelspec": {
   "display_name": ".venv",
   "language": "python",
   "name": "python3"
  },
  "language_info": {
   "codemirror_mode": {
    "name": "ipython",
    "version": 3
   },
   "file_extension": ".py",
   "mimetype": "text/x-python",
   "name": "python",
   "nbconvert_exporter": "python",
   "pygments_lexer": "ipython3",
   "version": "3.13.7"
  }
 },
 "nbformat": 4,
 "nbformat_minor": 5
}
