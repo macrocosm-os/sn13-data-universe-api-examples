{
 "cells": [
  {
   "cell_type": "markdown",
   "id": "c7f413fe",
   "metadata": {},
   "source": [
    "## Dependencies"
   ]
  },
  {
   "cell_type": "code",
   "execution_count": null,
   "id": "e344e794",
   "metadata": {},
   "outputs": [],
   "source": [
    "!pip install macrocosmos dotenv pandas"
   ]
  },
  {
   "cell_type": "markdown",
   "id": "8cc225f3",
   "metadata": {},
   "source": [
    "## Setup"
   ]
  },
  {
   "cell_type": "code",
   "execution_count": 14,
   "id": "850b0017",
   "metadata": {},
   "outputs": [],
   "source": [
    "import pandas as pd\n",
    "\n",
    "from datetime import datetime, timezone, timedelta\n",
    "from dotenv import load_dotenv\n",
    "import os\n",
    "import macrocosmos\n",
    "\n",
    "load_dotenv()\n",
    "\n",
    "client = macrocosmos.AsyncSn13Client(api_key=os.environ.get(\"MACROCOSMOS_API_KEY\"))"
   ]
  },
  {
   "cell_type": "code",
   "execution_count": 28,
   "id": "435e34e0",
   "metadata": {},
   "outputs": [
    {
     "data": {
      "text/plain": [
       "('2025-09-17T09:55:40.506139+00:00', '2025-09-24T09:55:40.506139+00:00')"
      ]
     },
     "execution_count": 28,
     "metadata": {},
     "output_type": "execute_result"
    }
   ],
   "source": [
    "end_dt = datetime.now(timezone.utc)\n",
    "start_dt = end_dt - timedelta(days=7) # up to minute precision\n",
    "\n",
    "start_dt.isoformat(), end_dt.isoformat() "
   ]
  },
  {
   "cell_type": "markdown",
   "id": "7c1e02ef",
   "metadata": {},
   "source": [
    "## Pull Tweets"
   ]
  },
  {
   "cell_type": "code",
   "execution_count": 31,
   "id": "10a63f10",
   "metadata": {},
   "outputs": [
    {
     "data": {
      "text/plain": [
       "('Response Status: success', 'Data Available: True')"
      ]
     },
     "execution_count": 31,
     "metadata": {},
     "output_type": "execute_result"
    }
   ],
   "source": [
    "resp = await client.sn13.OnDemandData(\n",
    "    source='x', # or 'reddit', 'youtube' -- more examples on following sections\n",
    "    usernames=None, # None or username(s) ex. ['elonmusk'] or ['elonmusk', 'MikeTyson']\n",
    "    keywords=[\"#bitcoin\"], # keyword (ex. 'ai'), hashtag (ex. '#bittensor'), or cashtag ('$AAPL')\n",
    "    start_date=start_dt.date().isoformat(),\n",
    "    end_date=end_dt.date().isoformat(),  # up to minute precision\n",
    "    limit=10, # up to 1000\n",
    ")\n",
    "\n",
    "f\"Response Status: {resp['status']}\", f\"Data Available: {not resp['meta'].get('no_data_available', False)}\""
   ]
  },
  {
   "cell_type": "code",
   "execution_count": 33,
   "id": "d6a0c306",
   "metadata": {},
   "outputs": [
    {
     "data": {
      "text/html": [
       "<div>\n",
       "<style scoped>\n",
       "    .dataframe tbody tr th:only-of-type {\n",
       "        vertical-align: middle;\n",
       "    }\n",
       "\n",
       "    .dataframe tbody tr th {\n",
       "        vertical-align: top;\n",
       "    }\n",
       "\n",
       "    .dataframe thead th {\n",
       "        text-align: right;\n",
       "    }\n",
       "</style>\n",
       "<table border=\"1\" class=\"dataframe\">\n",
       "  <thead>\n",
       "    <tr style=\"text-align: right;\">\n",
       "      <th></th>\n",
       "      <th>text</th>\n",
       "      <th>datetime</th>\n",
       "      <th>uri</th>\n",
       "      <th>source</th>\n",
       "      <th>content_size_bytes</th>\n",
       "      <th>label</th>\n",
       "      <th>tweet.quote_count</th>\n",
       "      <th>tweet.id</th>\n",
       "      <th>tweet.quoted_tweet_id</th>\n",
       "      <th>tweet.reply_count</th>\n",
       "      <th>...</th>\n",
       "      <th>user.verified</th>\n",
       "      <th>user.id</th>\n",
       "      <th>user.user_location</th>\n",
       "      <th>user.following_count</th>\n",
       "      <th>user.display_name</th>\n",
       "      <th>user.followers_count</th>\n",
       "      <th>user.user_description</th>\n",
       "      <th>user.user_blue_verified</th>\n",
       "      <th>user.profile_image_url</th>\n",
       "      <th>user.username</th>\n",
       "    </tr>\n",
       "  </thead>\n",
       "  <tbody>\n",
       "    <tr>\n",
       "      <th>0</th>\n",
       "      <td>Spring loaded \\n$128,000 next \\n#bitcoin</td>\n",
       "      <td>2025-09-23T23:59:57+00:00</td>\n",
       "      <td>https://x.com/NetHogger/status/197063930410504...</td>\n",
       "      <td>X</td>\n",
       "      <td>1090.0</td>\n",
       "      <td>#bitcoin</td>\n",
       "      <td>1.0</td>\n",
       "      <td>1970639304105042187</td>\n",
       "      <td>None</td>\n",
       "      <td>0.0</td>\n",
       "      <td>...</td>\n",
       "      <td>False</td>\n",
       "      <td>1434219190525726720</td>\n",
       "      <td>California, USA</td>\n",
       "      <td>8.0</td>\n",
       "      <td>NetHogger</td>\n",
       "      <td>956.0</td>\n",
       "      <td>Comics | Technical Analyst 🇸🇻🇬🇹|           \\nE...</td>\n",
       "      <td>False</td>\n",
       "      <td>https://pbs.twimg.com/profile_images/195401515...</td>\n",
       "      <td>NetHogger</td>\n",
       "    </tr>\n",
       "    <tr>\n",
       "      <th>1</th>\n",
       "      <td>So an influencer faked @Dennis  a headline and...</td>\n",
       "      <td>2025-09-23T23:59:49+00:00</td>\n",
       "      <td>https://x.com/CapnBit/status/1970639271917994155</td>\n",
       "      <td>X</td>\n",
       "      <td>1162.0</td>\n",
       "      <td>#bitcoin</td>\n",
       "      <td>0.0</td>\n",
       "      <td>1970639271917994155</td>\n",
       "      <td>None</td>\n",
       "      <td>0.0</td>\n",
       "      <td>...</td>\n",
       "      <td>True</td>\n",
       "      <td>3403230149</td>\n",
       "      <td>None</td>\n",
       "      <td>754.0</td>\n",
       "      <td>CapnBit💎</td>\n",
       "      <td>520.0</td>\n",
       "      <td>Sharing cutting-edge news 📡 wealth insights 💎</td>\n",
       "      <td>True</td>\n",
       "      <td>https://pbs.twimg.com/profile_images/193387493...</td>\n",
       "      <td>CapnBit</td>\n",
       "    </tr>\n",
       "    <tr>\n",
       "      <th>2</th>\n",
       "      <td>現在のBitcoin価格: ¥16,553,957 ($112,010) 1ドル147.79...</td>\n",
       "      <td>2025-09-23T23:59:40+00:00</td>\n",
       "      <td>https://x.com/Bitcoin784388/status/19706392342...</td>\n",
       "      <td>X</td>\n",
       "      <td>1772.0</td>\n",
       "      <td>#bitcoin</td>\n",
       "      <td>0.0</td>\n",
       "      <td>1970639234274074740</td>\n",
       "      <td>None</td>\n",
       "      <td>0.0</td>\n",
       "      <td>...</td>\n",
       "      <td>False</td>\n",
       "      <td>1944954455038025732</td>\n",
       "      <td>Japan</td>\n",
       "      <td>288.0</td>\n",
       "      <td>リアルタイムBTC価格トラッカー</td>\n",
       "      <td>121.0</td>\n",
       "      <td>ビットコインの最新価格を85分ごとに自動更新でお届けするBOTアカウントです。円とドルでのB...</td>\n",
       "      <td>False</td>\n",
       "      <td>https://pbs.twimg.com/profile_images/194503286...</td>\n",
       "      <td>Bitcoin784388</td>\n",
       "    </tr>\n",
       "  </tbody>\n",
       "</table>\n",
       "<p>3 rows × 34 columns</p>\n",
       "</div>"
      ],
      "text/plain": [
       "                                                text  \\\n",
       "0           Spring loaded \\n$128,000 next \\n#bitcoin   \n",
       "1  So an influencer faked @Dennis  a headline and...   \n",
       "2  現在のBitcoin価格: ¥16,553,957 ($112,010) 1ドル147.79...   \n",
       "\n",
       "                    datetime  \\\n",
       "0  2025-09-23T23:59:57+00:00   \n",
       "1  2025-09-23T23:59:49+00:00   \n",
       "2  2025-09-23T23:59:40+00:00   \n",
       "\n",
       "                                                 uri source  \\\n",
       "0  https://x.com/NetHogger/status/197063930410504...      X   \n",
       "1   https://x.com/CapnBit/status/1970639271917994155      X   \n",
       "2  https://x.com/Bitcoin784388/status/19706392342...      X   \n",
       "\n",
       "   content_size_bytes     label  tweet.quote_count             tweet.id  \\\n",
       "0              1090.0  #bitcoin                1.0  1970639304105042187   \n",
       "1              1162.0  #bitcoin                0.0  1970639271917994155   \n",
       "2              1772.0  #bitcoin                0.0  1970639234274074740   \n",
       "\n",
       "  tweet.quoted_tweet_id  tweet.reply_count  ...  user.verified  \\\n",
       "0                  None                0.0  ...          False   \n",
       "1                  None                0.0  ...           True   \n",
       "2                  None                0.0  ...          False   \n",
       "\n",
       "               user.id user.user_location  user.following_count  \\\n",
       "0  1434219190525726720    California, USA                   8.0   \n",
       "1           3403230149               None                 754.0   \n",
       "2  1944954455038025732              Japan                 288.0   \n",
       "\n",
       "   user.display_name  user.followers_count  \\\n",
       "0          NetHogger                 956.0   \n",
       "1           CapnBit💎                 520.0   \n",
       "2   リアルタイムBTC価格トラッカー                 121.0   \n",
       "\n",
       "                               user.user_description user.user_blue_verified  \\\n",
       "0  Comics | Technical Analyst 🇸🇻🇬🇹|           \\nE...                   False   \n",
       "1      Sharing cutting-edge news 📡 wealth insights 💎                    True   \n",
       "2  ビットコインの最新価格を85分ごとに自動更新でお届けするBOTアカウントです。円とドルでのB...                   False   \n",
       "\n",
       "                              user.profile_image_url  user.username  \n",
       "0  https://pbs.twimg.com/profile_images/195401515...      NetHogger  \n",
       "1  https://pbs.twimg.com/profile_images/193387493...        CapnBit  \n",
       "2  https://pbs.twimg.com/profile_images/194503286...  Bitcoin784388  \n",
       "\n",
       "[3 rows x 34 columns]"
      ]
     },
     "execution_count": 33,
     "metadata": {},
     "output_type": "execute_result"
    }
   ],
   "source": [
    "data = resp.get('data', [])\n",
    "df = pd.json_normalize(data)\n",
    "\n",
    "df.head(3)"
   ]
  },
  {
   "cell_type": "code",
   "execution_count": 35,
   "id": "84f94da1",
   "metadata": {},
   "outputs": [
    {
     "data": {
      "text/plain": [
       "text                           object\n",
       "datetime                       object\n",
       "uri                            object\n",
       "source                         object\n",
       "content_size_bytes            float64\n",
       "label                          object\n",
       "tweet.quote_count             float64\n",
       "tweet.id                       object\n",
       "tweet.quoted_tweet_id          object\n",
       "tweet.reply_count             float64\n",
       "tweet.like_count              float64\n",
       "tweet.conversation_id          object\n",
       "tweet.hashtags                 object\n",
       "tweet.retweet_count           float64\n",
       "tweet.is_quote                   bool\n",
       "tweet.bookmark_count          float64\n",
       "tweet.in_reply_to_user_id      object\n",
       "tweet.language                 object\n",
       "tweet.is_retweet                 bool\n",
       "tweet.is_reply                   bool\n",
       "tweet.view_count              float64\n",
       "tweet.in_reply_to              object\n",
       "tweet.in_reply_to_username     object\n",
       "user.cover_picture_url         object\n",
       "user.verified                    bool\n",
       "user.id                        object\n",
       "user.user_location             object\n",
       "user.following_count          float64\n",
       "user.display_name              object\n",
       "user.followers_count          float64\n",
       "user.user_description          object\n",
       "user.user_blue_verified          bool\n",
       "user.profile_image_url         object\n",
       "user.username                  object\n",
       "dtype: object"
      ]
     },
     "execution_count": 35,
     "metadata": {},
     "output_type": "execute_result"
    }
   ],
   "source": [
    "df.dtypes"
   ]
  },
  {
   "cell_type": "markdown",
   "id": "f81c43b8",
   "metadata": {},
   "source": [
    "### Most Influential Users by Followers"
   ]
  },
  {
   "cell_type": "code",
   "execution_count": 43,
   "id": "50059cc1",
   "metadata": {},
   "outputs": [
    {
     "name": "stdout",
     "output_type": "stream",
     "text": [
      "\n",
      "Top 5 users by followers:\n",
      "1. 👤 Mythical (themythicalart) — 2350 followers\n",
      "2. 👤 Bpay News (bpaynews) — 1868 followers\n",
      "3. 👤 NetHogger (NetHogger) — 956 followers\n",
      "4. 👤 Margarida Barbosa (margaridaB_9) — 770 followers\n",
      "5. 👤 SHIBAINU MX (j_vander_berg) — 737 followers\n"
     ]
    }
   ],
   "source": [
    "print(f\"\\nTop 5 users by followers:\")\n",
    "\n",
    "# Coerce followers to numeric and group by user (id preferred to dedupe)\n",
    "df['user.followers_count'] = pd.to_numeric(df['user.followers_count'], errors='coerce').fillna(0)\n",
    "user_cols = ['user.id','user.display_name','user.username','user.followers_count']\n",
    "\n",
    "# Drop rows without any user id/username to avoid nonsense groups\n",
    "users = df[user_cols].copy()\n",
    "\n",
    "grouped = (users.groupby('user.username', dropna=True)\n",
    "                .agg({'user.display_name':'last',\n",
    "                        'user.followers_count':'max'})\n",
    "                .reset_index()\n",
    "                .rename(columns={'user.username':'user.username'}))\n",
    "\n",
    "top_users = grouped.sort_values('user.followers_count', ascending=False).head(5)\n",
    "\n",
    "for i, row in top_users.reset_index(drop=True).iterrows():\n",
    "    name = row.get('user.display_name', '')\n",
    "    uname = row.get('user.username', '')\n",
    "    followers = int(row['user.followers_count'])\n",
    "    # Ensure a readable line even if username is missing\n",
    "    label = f\"{name} ({uname})\" if uname else name\n",
    "    print(f\"{i+1}. 👤 {label} — {followers} followers\")"
   ]
  },
  {
   "cell_type": "markdown",
   "id": "2261d744",
   "metadata": {},
   "source": [
    "### Most Liked Tweets"
   ]
  },
  {
   "cell_type": "code",
   "execution_count": 45,
   "id": "70f43b70",
   "metadata": {},
   "outputs": [
    {
     "name": "stdout",
     "output_type": "stream",
     "text": [
      "\n",
      "Most 5 liked tweets:\n",
      "1. ❤️ 1 Likes | Margarida Barbosa (@margaridaB_9)\n",
      "   $AEVO \n",
      "LONG\n",
      "LEV 50-75x\n",
      "ENTRY: 0.11692\n",
      "               \n",
      "TP:\n",
      "0.1202 ✅\n",
      "Join our telegram community.\n",
      "Click below ⬇️#bitcoin  #crypto #btc #eth #altcoin #trading #signal #memecoin #forex #xau #investing #gold #blockchain #AEVOUSDT\n",
      "   https://x.com/margaridaB_9/status/1970639066413580748\n",
      "\n",
      "=====\n",
      "\n",
      "2. ❤️ 1 Likes | Tech & Finance Pulse NG (@TechNaijaWire)\n",
      "   Outflows like this show how sensitive crypto ETFs are to Fed moves, traders take profits fast. But long-term, these dips often reset leverage and clear the way for stronger inflows when the dust settles. #Bitcoin #Ethereum #ETFs\n",
      "   https://x.com/TechNaijaWire/status/1970638644529770880\n",
      "\n",
      "=====\n",
      "\n",
      "3. ❤️ 1 Likes | Lola Coin (@lolacoinews)\n",
      "   Cloud mining platforms offer new passive income opportunities for investors --&gt;#crypto #btc #bitcoin #cryptocurrency #blockchain #trading #cryptonews #cryptomarket #cryptotrading #cryptocurrencies #cryptomining #ethereum #mining #regulations #scams #se…\n",
      "   https://x.com/lolacoinews/status/1970638455899087247\n",
      "\n",
      "=====\n",
      "\n",
      "4. ❤️ 0 Likes | NetHogger (@NetHogger)\n",
      "   Spring loaded \n",
      "$128,000 next \n",
      "#bitcoin\n",
      "   https://x.com/NetHogger/status/1970639304105042187\n",
      "\n",
      "=====\n",
      "\n",
      "5. ❤️ 0 Likes | CapnBit💎 (@CapnBit)\n",
      "   So an influencer faked @Dennis  a headline and caused some drama today. ...and this is your reason to be bearish on the entire market? \n",
      "\n",
      "Learn to separate the signal from the noise. \n",
      "\n",
      "The macro trend is unfazed by clout chasers. 📈\n",
      "#Bitcoin #Crypto #BullRun\n",
      "   https://x.com/CapnBit/status/1970639271917994155\n",
      "\n",
      "=====\n",
      "\n"
     ]
    }
   ],
   "source": [
    "print(f\"\\nMost 5 liked tweets:\")\n",
    "\n",
    "top_liked = (\n",
    "    df.sort_values('tweet.like_count', ascending=False)\n",
    "        .loc[:, ['tweet.like_count','text','user.display_name','user.username','uri']]\n",
    "        .head(5)\n",
    ")\n",
    "\n",
    "# Pretty print\n",
    "for i, row in top_liked.reset_index().iterrows():\n",
    "    print(f\"{i+1}. ❤️ {int(row['tweet.like_count'])} Likes | {row['user.display_name']} (@{row['user.username']})\")\n",
    "    print(f\"   {row['text']}\")\n",
    "    print(f\"   {row['uri']}\")\n",
    "    \n",
    "    print()\n",
    "    print('=====')\n",
    "    print()"
   ]
  },
  {
   "cell_type": "markdown",
   "id": "e95d54e6",
   "metadata": {},
   "source": [
    "## Scrape Reddit Posts + Comments"
   ]
  },
  {
   "cell_type": "code",
   "execution_count": 52,
   "id": "ba4077cb",
   "metadata": {},
   "outputs": [
    {
     "data": {
      "text/plain": [
       "('Response Status: success', 'Data Available: True')"
      ]
     },
     "execution_count": 52,
     "metadata": {},
     "output_type": "execute_result"
    }
   ],
   "source": [
    "resp = await client.sn13.OnDemandData(\n",
    "    source='reddit',\n",
    "    usernames=None,\n",
    "    keywords=[\"r/Bitcoin\"], # to combine subreddit and keywords/hashtags, you can pass a list ex. ['r/Bitcoin', 'ethereum']\n",
    "    start_date=start_dt.date().isoformat(),\n",
    "    end_date=end_dt.date().isoformat(),\n",
    "    limit=100, # up to 1000\n",
    ")\n",
    "\n",
    "f\"Response Status: {resp['status']}\", f\"Data Available: {not resp['meta'].get('no_data_available', False)}\""
   ]
  },
  {
   "cell_type": "code",
   "execution_count": 53,
   "id": "50e84bee",
   "metadata": {},
   "outputs": [
    {
     "data": {
      "text/html": [
       "<div>\n",
       "<style scoped>\n",
       "    .dataframe tbody tr th:only-of-type {\n",
       "        vertical-align: middle;\n",
       "    }\n",
       "\n",
       "    .dataframe tbody tr th {\n",
       "        vertical-align: top;\n",
       "    }\n",
       "\n",
       "    .dataframe thead th {\n",
       "        text-align: right;\n",
       "    }\n",
       "</style>\n",
       "<table border=\"1\" class=\"dataframe\">\n",
       "  <thead>\n",
       "    <tr style=\"text-align: right;\">\n",
       "      <th></th>\n",
       "      <th>id</th>\n",
       "      <th>communityName</th>\n",
       "      <th>upvote_ratio</th>\n",
       "      <th>url</th>\n",
       "      <th>media</th>\n",
       "      <th>label</th>\n",
       "      <th>num_comments</th>\n",
       "      <th>datetime</th>\n",
       "      <th>uri</th>\n",
       "      <th>source</th>\n",
       "      <th>dataType</th>\n",
       "      <th>content_size_bytes</th>\n",
       "      <th>createdAt</th>\n",
       "      <th>title</th>\n",
       "      <th>score</th>\n",
       "      <th>parentId</th>\n",
       "      <th>body</th>\n",
       "      <th>username</th>\n",
       "      <th>is_nsfw</th>\n",
       "    </tr>\n",
       "  </thead>\n",
       "  <tbody>\n",
       "    <tr>\n",
       "      <th>0</th>\n",
       "      <td>t3_1noxi4q</td>\n",
       "      <td>r/Bitcoin</td>\n",
       "      <td>0.72</td>\n",
       "      <td>https://www.reddit.com/r/Bitcoin/comments/1nox...</td>\n",
       "      <td>[https://i.redd.it/3eddjkq360rf1.jpeg]</td>\n",
       "      <td>r/bitcoin</td>\n",
       "      <td>14.0</td>\n",
       "      <td>2025-09-23T23:59:17+00:00</td>\n",
       "      <td>https://www.reddit.com/r/Bitcoin/comments/1nox...</td>\n",
       "      <td>REDDIT</td>\n",
       "      <td>post</td>\n",
       "      <td>557.0</td>\n",
       "      <td>2025-09-23T23:59:00+00:00</td>\n",
       "      <td>How many years to freedom? Depends on your wee...</td>\n",
       "      <td>21.0</td>\n",
       "      <td>None</td>\n",
       "      <td>note: this chart factors in Bitcoin’s price ap...</td>\n",
       "      <td>Kazgarth_</td>\n",
       "      <td>False</td>\n",
       "    </tr>\n",
       "    <tr>\n",
       "      <th>1</th>\n",
       "      <td>t3_1noxan7</td>\n",
       "      <td>r/Bitcoin</td>\n",
       "      <td>0.67</td>\n",
       "      <td>https://www.reddit.com/r/Bitcoin/comments/1nox...</td>\n",
       "      <td>[https://v.redd.it/5jy92phw40rf1, https://exte...</td>\n",
       "      <td>r/bitcoin</td>\n",
       "      <td>0.0</td>\n",
       "      <td>2025-09-23T23:49:47+00:00</td>\n",
       "      <td>https://www.reddit.com/r/Bitcoin/comments/1nox...</td>\n",
       "      <td>REDDIT</td>\n",
       "      <td>post</td>\n",
       "      <td>518.0</td>\n",
       "      <td>2025-09-23T23:49:00+00:00</td>\n",
       "      <td>Just shipped bitcoin gift tracker</td>\n",
       "      <td>1.0</td>\n",
       "      <td>None</td>\n",
       "      <td></td>\n",
       "      <td>sbounmy</td>\n",
       "      <td>False</td>\n",
       "    </tr>\n",
       "    <tr>\n",
       "      <th>2</th>\n",
       "      <td>t3_1nowsku</td>\n",
       "      <td>r/Bitcoin</td>\n",
       "      <td>0.26</td>\n",
       "      <td>https://www.reddit.com/r/Bitcoin/comments/1now...</td>\n",
       "      <td>[https://i.redd.it/7bfi0tjx00rf1.jpg, https://...</td>\n",
       "      <td>r/bitcoin</td>\n",
       "      <td>9.0</td>\n",
       "      <td>2025-09-23T23:27:11+00:00</td>\n",
       "      <td>https://www.reddit.com/r/Bitcoin/comments/1now...</td>\n",
       "      <td>REDDIT</td>\n",
       "      <td>post</td>\n",
       "      <td>835.0</td>\n",
       "      <td>2025-09-23T23:27:00+00:00</td>\n",
       "      <td>Look at this clown</td>\n",
       "      <td>0.0</td>\n",
       "      <td>None</td>\n",
       "      <td>Context: i asked the bitcoin community what th...</td>\n",
       "      <td>Abberate96</td>\n",
       "      <td>False</td>\n",
       "    </tr>\n",
       "  </tbody>\n",
       "</table>\n",
       "</div>"
      ],
      "text/plain": [
       "           id communityName  upvote_ratio  \\\n",
       "0  t3_1noxi4q     r/Bitcoin          0.72   \n",
       "1  t3_1noxan7     r/Bitcoin          0.67   \n",
       "2  t3_1nowsku     r/Bitcoin          0.26   \n",
       "\n",
       "                                                 url  \\\n",
       "0  https://www.reddit.com/r/Bitcoin/comments/1nox...   \n",
       "1  https://www.reddit.com/r/Bitcoin/comments/1nox...   \n",
       "2  https://www.reddit.com/r/Bitcoin/comments/1now...   \n",
       "\n",
       "                                               media      label  num_comments  \\\n",
       "0             [https://i.redd.it/3eddjkq360rf1.jpeg]  r/bitcoin          14.0   \n",
       "1  [https://v.redd.it/5jy92phw40rf1, https://exte...  r/bitcoin           0.0   \n",
       "2  [https://i.redd.it/7bfi0tjx00rf1.jpg, https://...  r/bitcoin           9.0   \n",
       "\n",
       "                    datetime  \\\n",
       "0  2025-09-23T23:59:17+00:00   \n",
       "1  2025-09-23T23:49:47+00:00   \n",
       "2  2025-09-23T23:27:11+00:00   \n",
       "\n",
       "                                                 uri  source dataType  \\\n",
       "0  https://www.reddit.com/r/Bitcoin/comments/1nox...  REDDIT     post   \n",
       "1  https://www.reddit.com/r/Bitcoin/comments/1nox...  REDDIT     post   \n",
       "2  https://www.reddit.com/r/Bitcoin/comments/1now...  REDDIT     post   \n",
       "\n",
       "   content_size_bytes                  createdAt  \\\n",
       "0               557.0  2025-09-23T23:59:00+00:00   \n",
       "1               518.0  2025-09-23T23:49:00+00:00   \n",
       "2               835.0  2025-09-23T23:27:00+00:00   \n",
       "\n",
       "                                               title  score parentId  \\\n",
       "0  How many years to freedom? Depends on your wee...   21.0     None   \n",
       "1                  Just shipped bitcoin gift tracker    1.0     None   \n",
       "2                                 Look at this clown    0.0     None   \n",
       "\n",
       "                                                body    username  is_nsfw  \n",
       "0  note: this chart factors in Bitcoin’s price ap...   Kazgarth_    False  \n",
       "1                                                        sbounmy    False  \n",
       "2  Context: i asked the bitcoin community what th...  Abberate96    False  "
      ]
     },
     "execution_count": 53,
     "metadata": {},
     "output_type": "execute_result"
    }
   ],
   "source": [
    "data = resp.get('data', [])\n",
    "df = pd.json_normalize(data)\n",
    "\n",
    "df.head(3)"
   ]
  },
  {
   "cell_type": "code",
   "execution_count": 51,
   "id": "76e28a38",
   "metadata": {},
   "outputs": [
    {
     "data": {
      "text/plain": [
       "id                     object\n",
       "url                    object\n",
       "upvote_ratio          float64\n",
       "communityName          object\n",
       "media                  object\n",
       "label                  object\n",
       "num_comments          float64\n",
       "datetime               object\n",
       "uri                    object\n",
       "source                 object\n",
       "dataType               object\n",
       "content_size_bytes    float64\n",
       "title                  object\n",
       "createdAt              object\n",
       "score                 float64\n",
       "parentId               object\n",
       "body                   object\n",
       "username               object\n",
       "is_nsfw                  bool\n",
       "dtype: object"
      ]
     },
     "execution_count": 51,
     "metadata": {},
     "output_type": "execute_result"
    }
   ],
   "source": [
    "df.dtypes"
   ]
  },
  {
   "cell_type": "markdown",
   "id": "3e780aed",
   "metadata": {},
   "source": [
    "### Most Liked Posts"
   ]
  },
  {
   "cell_type": "code",
   "execution_count": 61,
   "id": "b793e4c5",
   "metadata": {},
   "outputs": [
    {
     "name": "stdout",
     "output_type": "stream",
     "text": [
      "\n",
      "Most liked posts:\n",
      "1. ❤️ 1071 | I was about to reset an older phone, and there was still a tab open... — by LazyLifeguard | 2025-09-23T14:38:00+00:00 | r/Bitcoin\n",
      "   https://www.reddit.com/r/Bitcoin/comments/1noj60v/i_was_about_to_reset_an_older_phone_and_there_was/\n",
      "\n",
      "=====\n",
      "\n",
      "2. ❤️ 909 | How Bitcoin actually evolved over the years — by cjpogi1118 | 2025-09-23T17:51:00+00:00 | r/Bitcoin\n",
      "   https://www.reddit.com/r/Bitcoin/comments/1nooat6/how_bitcoin_actually_evolved_over_the_years/\n",
      "\n",
      "=====\n",
      "\n",
      "3. ❤️ 568 | Bitcoin is money — by Fit_Negotiation_1207 | 2025-09-23T21:12:00+00:00 | r/Bitcoin\n",
      "   https://www.reddit.com/r/Bitcoin/comments/1notkpx/bitcoin_is_money/\n",
      "\n",
      "=====\n",
      "\n",
      "4. ❤️ 477 | I bought 0.87 bitcoins today 🤣 — by Boring-Might-8058 | 2025-09-23T20:35:00+00:00 | r/Bitcoin\n",
      "   https://www.reddit.com/r/Bitcoin/comments/1nosmij/i_bought_087_bitcoins_today/\n",
      "\n",
      "=====\n",
      "\n",
      "5. ❤️ 412 | The power of conviction and innovation, but only when you believe — by News-Principal-160 | 2025-09-23T12:25:00+00:00 | r/Bitcoin\n",
      "   https://www.reddit.com/r/Bitcoin/comments/1nofyhf/the_power_of_conviction_and_innovation_but_only/\n",
      "\n",
      "=====\n",
      "\n"
     ]
    }
   ],
   "source": [
    "posts = df[df['dataType'] == 'post'].copy()\n",
    "\n",
    "top_posts = (\n",
    "    posts.sort_values('score', ascending=False)\n",
    "            .loc[:, ['score','title','url','uri','username','createdAt','datetime','communityName','num_comments','upvote_ratio', 'id']]\n",
    "            .head(5)\n",
    ")\n",
    "print(f\"\\nMost liked posts:\")\n",
    "for i, r in top_posts.reset_index(drop=True).iterrows():\n",
    "    title = r['title'] if pd.notna(r['title']) else '(no title)'\n",
    "    link = r['url'] if pd.notna(r['url']) else r['uri']\n",
    "    ts = r['createdAt'] if pd.notna(r['createdAt']) else r['datetime']\n",
    "    print(f\"{i+1}. ❤️ {int(r['score'])} | {title} — by {r['username']} | {ts} | {r['communityName']}\")\n",
    "    print(f\"   {link}\")\n",
    "    \n",
    "    print()\n",
    "    print('=====')\n",
    "    print()"
   ]
  },
  {
   "cell_type": "markdown",
   "id": "f758489c",
   "metadata": {},
   "source": [
    "### Most Influential Users"
   ]
  },
  {
   "cell_type": "code",
   "execution_count": 57,
   "id": "5a1e29de",
   "metadata": {},
   "outputs": [
    {
     "name": "stdout",
     "output_type": "stream",
     "text": [
      "\n",
      "Most users (by activity; tie-break by total score):\n",
      "1. 👤 Immediate-Coat-9162 — 3 items, 262 total score\n",
      "2. 👤 Koji-c3w — 2 items, 194 total score\n",
      "3. 👤 unthocks — 2 items, 18 total score\n",
      "4. 👤 grzeszu82 — 2 items, 5 total score\n",
      "5. 👤 LazyLifeguard — 1 items, 1071 total score\n",
      "6. 👤 cjpogi1118 — 1 items, 909 total score\n",
      "7. 👤 Fit_Negotiation_1207 — 1 items, 568 total score\n",
      "8. 👤 Boring-Might-8058 — 1 items, 477 total score\n",
      "9. 👤 News-Principal-160 — 1 items, 412 total score\n",
      "10. 👤 QUESTION_NERD — 1 items, 386 total score\n"
     ]
    }
   ],
   "source": [
    "user_activity = (\n",
    "    df.assign(item_count=1)\n",
    "        .groupby('username', dropna=True)\n",
    "        .agg(total_items=('item_count','sum'),\n",
    "            total_score=('score','sum'))\n",
    "        .reset_index()\n",
    "        .sort_values(['total_items','total_score'], ascending=[False, False])\n",
    "        .head(10)\n",
    ")\n",
    "print(\"\\nMost users (by activity; tie-break by total score):\")\n",
    "for i, r in user_activity.reset_index(drop=True).iterrows():\n",
    "    uname = r['username']\n",
    "    items = int(r['total_items'])\n",
    "    sc = int(r['total_score'])\n",
    "    print(f\"{i+1}. 👤 {uname} — {items} items, {sc} total score\")"
   ]
  },
  {
   "cell_type": "markdown",
   "id": "13eb7ef0",
   "metadata": {},
   "source": [
    "## Scrape YouTube Videos + Transcripts ( Beta )"
   ]
  },
  {
   "cell_type": "code",
   "execution_count": 88,
   "id": "1aa5b9ef",
   "metadata": {},
   "outputs": [
    {
     "data": {
      "text/plain": [
       "('2025-09-17', '2025-09-24')"
      ]
     },
     "execution_count": 88,
     "metadata": {},
     "output_type": "execute_result"
    }
   ],
   "source": [
    "start_dt.date().isoformat(), end_dt.date().isoformat()"
   ]
  },
  {
   "cell_type": "code",
   "execution_count": 87,
   "id": "4011c859",
   "metadata": {},
   "outputs": [
    {
     "data": {
      "text/plain": [
       "('Response Status: success', 'Data Available: False')"
      ]
     },
     "execution_count": 87,
     "metadata": {},
     "output_type": "execute_result"
    }
   ],
   "source": [
    "resp = await client.sn13.OnDemandData(\n",
    "    source='youtube',\n",
    "    usernames=None,\n",
    "    keywords=None,\n",
    "    start_date=start_dt.date().isoformat(),\n",
    "    end_date=end_dt.date().isoformat(),\n",
    "    limit=100, # up to 1000\n",
    ")\n",
    "\n",
    "f\"Response Status: {resp['status']}\", f\"Data Available: {not resp['meta'].get('no_data_available', False)}\""
   ]
  },
  {
   "cell_type": "code",
   "execution_count": 74,
   "id": "5e60c3a3",
   "metadata": {},
   "outputs": [
    {
     "data": {
      "text/html": [
       "<div>\n",
       "<style scoped>\n",
       "    .dataframe tbody tr th:only-of-type {\n",
       "        vertical-align: middle;\n",
       "    }\n",
       "\n",
       "    .dataframe tbody tr th {\n",
       "        vertical-align: top;\n",
       "    }\n",
       "\n",
       "    .dataframe thead th {\n",
       "        text-align: right;\n",
       "    }\n",
       "</style>\n",
       "<table border=\"1\" class=\"dataframe\">\n",
       "  <thead>\n",
       "    <tr style=\"text-align: right;\">\n",
       "      <th></th>\n",
       "    </tr>\n",
       "  </thead>\n",
       "  <tbody>\n",
       "  </tbody>\n",
       "</table>\n",
       "</div>"
      ],
      "text/plain": [
       "Empty DataFrame\n",
       "Columns: []\n",
       "Index: []"
      ]
     },
     "execution_count": 74,
     "metadata": {},
     "output_type": "execute_result"
    }
   ],
   "source": [
    "data = resp.get('data', [])\n",
    "df = pd.json_normalize(data)\n",
    "\n",
    "df.head(3)"
   ]
  },
  {
   "cell_type": "code",
   "execution_count": null,
   "id": "7ac91652",
   "metadata": {},
   "outputs": [],
   "source": [
    "df.dtypes"
   ]
  }
 ],
 "metadata": {
  "kernelspec": {
   "display_name": ".venv",
   "language": "python",
   "name": "python3"
  },
  "language_info": {
   "codemirror_mode": {
    "name": "ipython",
    "version": 3
   },
   "file_extension": ".py",
   "mimetype": "text/x-python",
   "name": "python",
   "nbconvert_exporter": "python",
   "pygments_lexer": "ipython3",
   "version": "3.13.7"
  }
 },
 "nbformat": 4,
 "nbformat_minor": 5
}
